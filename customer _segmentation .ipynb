{
 "cells": [
  {
   "cell_type": "markdown",
   "id": "c47e5a00",
   "metadata": {},
   "source": [
    "# Import necessary libraries"
   ]
  },
  {
   "cell_type": "code",
   "execution_count": 124,
   "id": "7b5b155e",
   "metadata": {},
   "outputs": [],
   "source": [
    "import pandas as pd\n",
    "import numpy as np\n",
    "import matplotlib.pyplot as plt\n",
    "from sklearn.preprocessing import StandardScaler\n",
    "from sklearn.cluster import KMeans\n",
    "from sklearn.metrics import silhouette_score, davies_bouldin_score\n",
    "from datetime import datetime"
   ]
  },
  {
   "cell_type": "markdown",
   "id": "a83c6ee6",
   "metadata": {},
   "source": [
    "# Load dataset"
   ]
  },
  {
   "cell_type": "code",
   "execution_count": 125,
   "id": "2095e9f5",
   "metadata": {},
   "outputs": [
    {
     "data": {
      "text/plain": [
       "['customers', 'genders', 'cities', 'transactions', 'branches', 'merchants']"
      ]
     },
     "execution_count": 125,
     "metadata": {},
     "output_type": "execute_result"
    }
   ],
   "source": [
    "df = pd.ExcelFile(r'\\Users\\malak\\Downloads\\E-commerce_data.xlsx')\n",
    "df.sheet_names"
   ]
  },
  {
   "cell_type": "markdown",
   "id": "dc8fdd80",
   "metadata": {},
   "source": [
    "# Load data sheets"
   ]
  },
  {
   "cell_type": "code",
   "execution_count": 126,
   "id": "87f8bb03",
   "metadata": {},
   "outputs": [],
   "source": [
    "# Load data sheets\n",
    "customers_df = pd.read_excel(df, sheet_name='customers')\n",
    "genders_df = pd.read_excel(df, sheet_name='genders')\n",
    "cities_df = pd.read_excel(df, sheet_name='cities')\n",
    "transactions_df = pd.read_excel(df, sheet_name='transactions')"
   ]
  },
  {
   "cell_type": "markdown",
   "id": "14783845",
   "metadata": {},
   "source": [
    "#  Data Merging \n",
    "### Combining Customer & Transaction Data"
   ]
  },
  {
   "cell_type": "code",
   "execution_count": 127,
   "id": "6290f2ae",
   "metadata": {},
   "outputs": [
    {
     "data": {
      "text/html": [
       "<div>\n",
       "<style scoped>\n",
       "    .dataframe tbody tr th:only-of-type {\n",
       "        vertical-align: middle;\n",
       "    }\n",
       "\n",
       "    .dataframe tbody tr th {\n",
       "        vertical-align: top;\n",
       "    }\n",
       "\n",
       "    .dataframe thead th {\n",
       "        text-align: right;\n",
       "    }\n",
       "</style>\n",
       "<table border=\"1\" class=\"dataframe\">\n",
       "  <thead>\n",
       "    <tr style=\"text-align: right;\">\n",
       "      <th></th>\n",
       "      <th>customer_id</th>\n",
       "      <th>join_date</th>\n",
       "      <th>gender_name</th>\n",
       "      <th>city_name</th>\n",
       "    </tr>\n",
       "  </thead>\n",
       "  <tbody>\n",
       "    <tr>\n",
       "      <th>0</th>\n",
       "      <td>1</td>\n",
       "      <td>2022-01-08</td>\n",
       "      <td>Male</td>\n",
       "      <td>Mansoura</td>\n",
       "    </tr>\n",
       "    <tr>\n",
       "      <th>1</th>\n",
       "      <td>2</td>\n",
       "      <td>2023-05-02</td>\n",
       "      <td>Female</td>\n",
       "      <td>Sohag</td>\n",
       "    </tr>\n",
       "    <tr>\n",
       "      <th>2</th>\n",
       "      <td>3</td>\n",
       "      <td>2023-05-14</td>\n",
       "      <td>Male</td>\n",
       "      <td>Aswan</td>\n",
       "    </tr>\n",
       "    <tr>\n",
       "      <th>3</th>\n",
       "      <td>4</td>\n",
       "      <td>2022-11-25</td>\n",
       "      <td>Female</td>\n",
       "      <td>Ismailia</td>\n",
       "    </tr>\n",
       "    <tr>\n",
       "      <th>4</th>\n",
       "      <td>5</td>\n",
       "      <td>2023-04-26</td>\n",
       "      <td>Male</td>\n",
       "      <td>El-Mahalla El-Kubra</td>\n",
       "    </tr>\n",
       "  </tbody>\n",
       "</table>\n",
       "</div>"
      ],
      "text/plain": [
       "   customer_id  join_date gender_name            city_name\n",
       "0            1 2022-01-08        Male             Mansoura\n",
       "1            2 2023-05-02      Female                Sohag\n",
       "2            3 2023-05-14        Male                Aswan\n",
       "3            4 2022-11-25      Female             Ismailia\n",
       "4            5 2023-04-26        Male  El-Mahalla El-Kubra"
      ]
     },
     "execution_count": 127,
     "metadata": {},
     "output_type": "execute_result"
    }
   ],
   "source": [
    "# Merge gender and city names into the customers dataset\n",
    "# Merge gender and city names into the customers dataset\n",
    "customers_df = customers_df.merge(genders_df, on=\"gender_id\", how=\"left\")\n",
    "customers_df = customers_df.merge(cities_df, on=\"city_id\", how=\"left\")\n",
    "customers_df.drop(columns=[\"gender_id\", \"city_id\"], inplace=True)\n",
    "customers_df.head()"
   ]
  },
  {
   "cell_type": "code",
   "execution_count": 128,
   "id": "1d32b1c1",
   "metadata": {},
   "outputs": [],
   "source": [
    "# Merge customers with transactions\n",
    "merged_df = customers_df.merge(transactions_df, on=\"customer_id\", how=\"left\")"
   ]
  },
  {
   "cell_type": "markdown",
   "id": "d817b41e",
   "metadata": {},
   "source": [
    "# Exploratory Data Analysis (EDA) & Data cleaning"
   ]
  },
  {
   "cell_type": "code",
   "execution_count": 129,
   "id": "f66e4ea1",
   "metadata": {},
   "outputs": [
    {
     "data": {
      "text/plain": [
       "(5011, 10)"
      ]
     },
     "execution_count": 129,
     "metadata": {},
     "output_type": "execute_result"
    }
   ],
   "source": [
    "# Dataset shape\n",
    "merged_df.shape"
   ]
  },
  {
   "cell_type": "code",
   "execution_count": 130,
   "id": "6454f70f",
   "metadata": {},
   "outputs": [
    {
     "data": {
      "text/html": [
       "<div>\n",
       "<style scoped>\n",
       "    .dataframe tbody tr th:only-of-type {\n",
       "        vertical-align: middle;\n",
       "    }\n",
       "\n",
       "    .dataframe tbody tr th {\n",
       "        vertical-align: top;\n",
       "    }\n",
       "\n",
       "    .dataframe thead th {\n",
       "        text-align: right;\n",
       "    }\n",
       "</style>\n",
       "<table border=\"1\" class=\"dataframe\">\n",
       "  <thead>\n",
       "    <tr style=\"text-align: right;\">\n",
       "      <th></th>\n",
       "      <th>customer_id</th>\n",
       "      <th>join_date</th>\n",
       "      <th>gender_name</th>\n",
       "      <th>city_name</th>\n",
       "      <th>transaction_id</th>\n",
       "      <th>transaction_date</th>\n",
       "      <th>transaction_status</th>\n",
       "      <th>coupon_name</th>\n",
       "      <th>burn_date</th>\n",
       "      <th>branch_id</th>\n",
       "    </tr>\n",
       "  </thead>\n",
       "  <tbody>\n",
       "    <tr>\n",
       "      <th>0</th>\n",
       "      <td>1</td>\n",
       "      <td>2022-01-08</td>\n",
       "      <td>Male</td>\n",
       "      <td>Mansoura</td>\n",
       "      <td>178.0</td>\n",
       "      <td>2022-07-30</td>\n",
       "      <td>subscribed</td>\n",
       "      <td>SrP-866</td>\n",
       "      <td>NaT</td>\n",
       "      <td>8.0</td>\n",
       "    </tr>\n",
       "    <tr>\n",
       "      <th>1</th>\n",
       "      <td>1</td>\n",
       "      <td>2022-01-08</td>\n",
       "      <td>Male</td>\n",
       "      <td>Mansoura</td>\n",
       "      <td>257.0</td>\n",
       "      <td>2022-09-19</td>\n",
       "      <td>burned</td>\n",
       "      <td>krI-075</td>\n",
       "      <td>2022-11-05</td>\n",
       "      <td>1.0</td>\n",
       "    </tr>\n",
       "    <tr>\n",
       "      <th>2</th>\n",
       "      <td>1</td>\n",
       "      <td>2022-01-08</td>\n",
       "      <td>Male</td>\n",
       "      <td>Mansoura</td>\n",
       "      <td>1652.0</td>\n",
       "      <td>2022-06-09</td>\n",
       "      <td>burned</td>\n",
       "      <td>quk-137</td>\n",
       "      <td>2022-07-19</td>\n",
       "      <td>6.0</td>\n",
       "    </tr>\n",
       "    <tr>\n",
       "      <th>3</th>\n",
       "      <td>1</td>\n",
       "      <td>2022-01-08</td>\n",
       "      <td>Male</td>\n",
       "      <td>Mansoura</td>\n",
       "      <td>1929.0</td>\n",
       "      <td>2022-07-30</td>\n",
       "      <td>burned</td>\n",
       "      <td>QiG-754</td>\n",
       "      <td>2022-10-18</td>\n",
       "      <td>8.0</td>\n",
       "    </tr>\n",
       "    <tr>\n",
       "      <th>4</th>\n",
       "      <td>1</td>\n",
       "      <td>2022-01-08</td>\n",
       "      <td>Male</td>\n",
       "      <td>Mansoura</td>\n",
       "      <td>2352.0</td>\n",
       "      <td>2023-03-24</td>\n",
       "      <td>subscribed</td>\n",
       "      <td>OtC-985</td>\n",
       "      <td>NaT</td>\n",
       "      <td>4.0</td>\n",
       "    </tr>\n",
       "    <tr>\n",
       "      <th>...</th>\n",
       "      <td>...</td>\n",
       "      <td>...</td>\n",
       "      <td>...</td>\n",
       "      <td>...</td>\n",
       "      <td>...</td>\n",
       "      <td>...</td>\n",
       "      <td>...</td>\n",
       "      <td>...</td>\n",
       "      <td>...</td>\n",
       "      <td>...</td>\n",
       "    </tr>\n",
       "    <tr>\n",
       "      <th>5006</th>\n",
       "      <td>999</td>\n",
       "      <td>2022-07-16</td>\n",
       "      <td>Male</td>\n",
       "      <td>Suez</td>\n",
       "      <td>541.0</td>\n",
       "      <td>2023-05-18</td>\n",
       "      <td>burned</td>\n",
       "      <td>rqU-020</td>\n",
       "      <td>2023-07-15</td>\n",
       "      <td>8.0</td>\n",
       "    </tr>\n",
       "    <tr>\n",
       "      <th>5007</th>\n",
       "      <td>999</td>\n",
       "      <td>2022-07-16</td>\n",
       "      <td>Male</td>\n",
       "      <td>Suez</td>\n",
       "      <td>2216.0</td>\n",
       "      <td>2022-12-21</td>\n",
       "      <td>burned</td>\n",
       "      <td>VoR-120</td>\n",
       "      <td>2023-02-17</td>\n",
       "      <td>2.0</td>\n",
       "    </tr>\n",
       "    <tr>\n",
       "      <th>5008</th>\n",
       "      <td>999</td>\n",
       "      <td>2022-07-16</td>\n",
       "      <td>Male</td>\n",
       "      <td>Suez</td>\n",
       "      <td>3996.0</td>\n",
       "      <td>2024-04-09</td>\n",
       "      <td>burned</td>\n",
       "      <td>vGo-341</td>\n",
       "      <td>2024-05-07</td>\n",
       "      <td>3.0</td>\n",
       "    </tr>\n",
       "    <tr>\n",
       "      <th>5009</th>\n",
       "      <td>1000</td>\n",
       "      <td>2024-04-08</td>\n",
       "      <td>Female</td>\n",
       "      <td>Alexandria</td>\n",
       "      <td>1159.0</td>\n",
       "      <td>2024-04-20</td>\n",
       "      <td>subscribed</td>\n",
       "      <td>TmE-861</td>\n",
       "      <td>NaT</td>\n",
       "      <td>8.0</td>\n",
       "    </tr>\n",
       "    <tr>\n",
       "      <th>5010</th>\n",
       "      <td>1000</td>\n",
       "      <td>2024-04-08</td>\n",
       "      <td>Female</td>\n",
       "      <td>Alexandria</td>\n",
       "      <td>3245.0</td>\n",
       "      <td>2024-04-27</td>\n",
       "      <td>burned</td>\n",
       "      <td>tws-922</td>\n",
       "      <td>2024-07-03</td>\n",
       "      <td>1.0</td>\n",
       "    </tr>\n",
       "  </tbody>\n",
       "</table>\n",
       "<p>5011 rows × 10 columns</p>\n",
       "</div>"
      ],
      "text/plain": [
       "      customer_id  join_date gender_name   city_name  transaction_id  \\\n",
       "0               1 2022-01-08        Male    Mansoura           178.0   \n",
       "1               1 2022-01-08        Male    Mansoura           257.0   \n",
       "2               1 2022-01-08        Male    Mansoura          1652.0   \n",
       "3               1 2022-01-08        Male    Mansoura          1929.0   \n",
       "4               1 2022-01-08        Male    Mansoura          2352.0   \n",
       "...           ...        ...         ...         ...             ...   \n",
       "5006          999 2022-07-16        Male        Suez           541.0   \n",
       "5007          999 2022-07-16        Male        Suez          2216.0   \n",
       "5008          999 2022-07-16        Male        Suez          3996.0   \n",
       "5009         1000 2024-04-08      Female  Alexandria          1159.0   \n",
       "5010         1000 2024-04-08      Female  Alexandria          3245.0   \n",
       "\n",
       "     transaction_date transaction_status coupon_name  burn_date  branch_id  \n",
       "0          2022-07-30         subscribed     SrP-866        NaT        8.0  \n",
       "1          2022-09-19             burned     krI-075 2022-11-05        1.0  \n",
       "2          2022-06-09             burned     quk-137 2022-07-19        6.0  \n",
       "3          2022-07-30             burned     QiG-754 2022-10-18        8.0  \n",
       "4          2023-03-24         subscribed     OtC-985        NaT        4.0  \n",
       "...               ...                ...         ...        ...        ...  \n",
       "5006       2023-05-18             burned     rqU-020 2023-07-15        8.0  \n",
       "5007       2022-12-21             burned     VoR-120 2023-02-17        2.0  \n",
       "5008       2024-04-09             burned     vGo-341 2024-05-07        3.0  \n",
       "5009       2024-04-20         subscribed     TmE-861        NaT        8.0  \n",
       "5010       2024-04-27             burned     tws-922 2024-07-03        1.0  \n",
       "\n",
       "[5011 rows x 10 columns]"
      ]
     },
     "execution_count": 130,
     "metadata": {},
     "output_type": "execute_result"
    }
   ],
   "source": [
    "merged_df"
   ]
  },
  {
   "cell_type": "code",
   "execution_count": 131,
   "id": "0c4378f1",
   "metadata": {},
   "outputs": [
    {
     "data": {
      "text/plain": [
       "customer_id              0\n",
       "join_date                0\n",
       "gender_name              0\n",
       "city_name                0\n",
       "transaction_id          11\n",
       "transaction_date        11\n",
       "transaction_status      11\n",
       "coupon_name             11\n",
       "burn_date             2495\n",
       "branch_id               11\n",
       "dtype: int64"
      ]
     },
     "execution_count": 131,
     "metadata": {},
     "output_type": "execute_result"
    }
   ],
   "source": [
    "# checking nulls in the dataset\n",
    "merged_df.isna().sum()"
   ]
  },
  {
   "cell_type": "code",
   "execution_count": 132,
   "id": "b4173171",
   "metadata": {},
   "outputs": [],
   "source": [
    "# Drop unnecessary column 'burn_date' (not needed for clustering)\n",
    "merged_df.drop(columns=[\"burn_date\"], inplace=True)"
   ]
  },
  {
   "cell_type": "code",
   "execution_count": 134,
   "id": "08e56763",
   "metadata": {},
   "outputs": [],
   "source": [
    "# since the missing values are too small so I dropped the missing values\n",
    "merged_df=merged_df.dropna()"
   ]
  },
  {
   "cell_type": "code",
   "execution_count": 135,
   "id": "7423e0b9",
   "metadata": {
    "scrolled": false
   },
   "outputs": [
    {
     "data": {
      "text/html": [
       "<div>\n",
       "<style scoped>\n",
       "    .dataframe tbody tr th:only-of-type {\n",
       "        vertical-align: middle;\n",
       "    }\n",
       "\n",
       "    .dataframe tbody tr th {\n",
       "        vertical-align: top;\n",
       "    }\n",
       "\n",
       "    .dataframe thead th {\n",
       "        text-align: right;\n",
       "    }\n",
       "</style>\n",
       "<table border=\"1\" class=\"dataframe\">\n",
       "  <thead>\n",
       "    <tr style=\"text-align: right;\">\n",
       "      <th></th>\n",
       "      <th>customer_id</th>\n",
       "      <th>join_date</th>\n",
       "      <th>gender_name</th>\n",
       "      <th>city_name</th>\n",
       "      <th>transaction_id</th>\n",
       "      <th>transaction_date</th>\n",
       "      <th>transaction_status</th>\n",
       "      <th>coupon_name</th>\n",
       "      <th>branch_id</th>\n",
       "    </tr>\n",
       "  </thead>\n",
       "  <tbody>\n",
       "    <tr>\n",
       "      <th>0</th>\n",
       "      <td>1</td>\n",
       "      <td>2022-01-08</td>\n",
       "      <td>Male</td>\n",
       "      <td>Mansoura</td>\n",
       "      <td>178.0</td>\n",
       "      <td>2022-07-30</td>\n",
       "      <td>subscribed</td>\n",
       "      <td>SrP-866</td>\n",
       "      <td>8.0</td>\n",
       "    </tr>\n",
       "    <tr>\n",
       "      <th>1</th>\n",
       "      <td>1</td>\n",
       "      <td>2022-01-08</td>\n",
       "      <td>Male</td>\n",
       "      <td>Mansoura</td>\n",
       "      <td>257.0</td>\n",
       "      <td>2022-09-19</td>\n",
       "      <td>burned</td>\n",
       "      <td>krI-075</td>\n",
       "      <td>1.0</td>\n",
       "    </tr>\n",
       "    <tr>\n",
       "      <th>2</th>\n",
       "      <td>1</td>\n",
       "      <td>2022-01-08</td>\n",
       "      <td>Male</td>\n",
       "      <td>Mansoura</td>\n",
       "      <td>1652.0</td>\n",
       "      <td>2022-06-09</td>\n",
       "      <td>burned</td>\n",
       "      <td>quk-137</td>\n",
       "      <td>6.0</td>\n",
       "    </tr>\n",
       "    <tr>\n",
       "      <th>3</th>\n",
       "      <td>1</td>\n",
       "      <td>2022-01-08</td>\n",
       "      <td>Male</td>\n",
       "      <td>Mansoura</td>\n",
       "      <td>1929.0</td>\n",
       "      <td>2022-07-30</td>\n",
       "      <td>burned</td>\n",
       "      <td>QiG-754</td>\n",
       "      <td>8.0</td>\n",
       "    </tr>\n",
       "    <tr>\n",
       "      <th>4</th>\n",
       "      <td>1</td>\n",
       "      <td>2022-01-08</td>\n",
       "      <td>Male</td>\n",
       "      <td>Mansoura</td>\n",
       "      <td>2352.0</td>\n",
       "      <td>2023-03-24</td>\n",
       "      <td>subscribed</td>\n",
       "      <td>OtC-985</td>\n",
       "      <td>4.0</td>\n",
       "    </tr>\n",
       "    <tr>\n",
       "      <th>...</th>\n",
       "      <td>...</td>\n",
       "      <td>...</td>\n",
       "      <td>...</td>\n",
       "      <td>...</td>\n",
       "      <td>...</td>\n",
       "      <td>...</td>\n",
       "      <td>...</td>\n",
       "      <td>...</td>\n",
       "      <td>...</td>\n",
       "    </tr>\n",
       "    <tr>\n",
       "      <th>5006</th>\n",
       "      <td>999</td>\n",
       "      <td>2022-07-16</td>\n",
       "      <td>Male</td>\n",
       "      <td>Suez</td>\n",
       "      <td>541.0</td>\n",
       "      <td>2023-05-18</td>\n",
       "      <td>burned</td>\n",
       "      <td>rqU-020</td>\n",
       "      <td>8.0</td>\n",
       "    </tr>\n",
       "    <tr>\n",
       "      <th>5007</th>\n",
       "      <td>999</td>\n",
       "      <td>2022-07-16</td>\n",
       "      <td>Male</td>\n",
       "      <td>Suez</td>\n",
       "      <td>2216.0</td>\n",
       "      <td>2022-12-21</td>\n",
       "      <td>burned</td>\n",
       "      <td>VoR-120</td>\n",
       "      <td>2.0</td>\n",
       "    </tr>\n",
       "    <tr>\n",
       "      <th>5008</th>\n",
       "      <td>999</td>\n",
       "      <td>2022-07-16</td>\n",
       "      <td>Male</td>\n",
       "      <td>Suez</td>\n",
       "      <td>3996.0</td>\n",
       "      <td>2024-04-09</td>\n",
       "      <td>burned</td>\n",
       "      <td>vGo-341</td>\n",
       "      <td>3.0</td>\n",
       "    </tr>\n",
       "    <tr>\n",
       "      <th>5009</th>\n",
       "      <td>1000</td>\n",
       "      <td>2024-04-08</td>\n",
       "      <td>Female</td>\n",
       "      <td>Alexandria</td>\n",
       "      <td>1159.0</td>\n",
       "      <td>2024-04-20</td>\n",
       "      <td>subscribed</td>\n",
       "      <td>TmE-861</td>\n",
       "      <td>8.0</td>\n",
       "    </tr>\n",
       "    <tr>\n",
       "      <th>5010</th>\n",
       "      <td>1000</td>\n",
       "      <td>2024-04-08</td>\n",
       "      <td>Female</td>\n",
       "      <td>Alexandria</td>\n",
       "      <td>3245.0</td>\n",
       "      <td>2024-04-27</td>\n",
       "      <td>burned</td>\n",
       "      <td>tws-922</td>\n",
       "      <td>1.0</td>\n",
       "    </tr>\n",
       "  </tbody>\n",
       "</table>\n",
       "<p>5000 rows × 9 columns</p>\n",
       "</div>"
      ],
      "text/plain": [
       "      customer_id  join_date gender_name   city_name  transaction_id  \\\n",
       "0               1 2022-01-08        Male    Mansoura           178.0   \n",
       "1               1 2022-01-08        Male    Mansoura           257.0   \n",
       "2               1 2022-01-08        Male    Mansoura          1652.0   \n",
       "3               1 2022-01-08        Male    Mansoura          1929.0   \n",
       "4               1 2022-01-08        Male    Mansoura          2352.0   \n",
       "...           ...        ...         ...         ...             ...   \n",
       "5006          999 2022-07-16        Male        Suez           541.0   \n",
       "5007          999 2022-07-16        Male        Suez          2216.0   \n",
       "5008          999 2022-07-16        Male        Suez          3996.0   \n",
       "5009         1000 2024-04-08      Female  Alexandria          1159.0   \n",
       "5010         1000 2024-04-08      Female  Alexandria          3245.0   \n",
       "\n",
       "     transaction_date transaction_status coupon_name  branch_id  \n",
       "0          2022-07-30         subscribed     SrP-866        8.0  \n",
       "1          2022-09-19             burned     krI-075        1.0  \n",
       "2          2022-06-09             burned     quk-137        6.0  \n",
       "3          2022-07-30             burned     QiG-754        8.0  \n",
       "4          2023-03-24         subscribed     OtC-985        4.0  \n",
       "...               ...                ...         ...        ...  \n",
       "5006       2023-05-18             burned     rqU-020        8.0  \n",
       "5007       2022-12-21             burned     VoR-120        2.0  \n",
       "5008       2024-04-09             burned     vGo-341        3.0  \n",
       "5009       2024-04-20         subscribed     TmE-861        8.0  \n",
       "5010       2024-04-27             burned     tws-922        1.0  \n",
       "\n",
       "[5000 rows x 9 columns]"
      ]
     },
     "execution_count": 135,
     "metadata": {},
     "output_type": "execute_result"
    }
   ],
   "source": [
    "merged_df"
   ]
  },
  {
   "cell_type": "code",
   "execution_count": 137,
   "id": "faf4c50e",
   "metadata": {
    "scrolled": true
   },
   "outputs": [
    {
     "data": {
      "text/plain": [
       "0"
      ]
     },
     "execution_count": 137,
     "metadata": {},
     "output_type": "execute_result"
    }
   ],
   "source": [
    "# checking duplicates\n",
    "merged_df.duplicated().sum()"
   ]
  },
  {
   "cell_type": "code",
   "execution_count": 138,
   "id": "03267d42",
   "metadata": {
    "scrolled": true
   },
   "outputs": [
    {
     "name": "stdout",
     "output_type": "stream",
     "text": [
      "<class 'pandas.core.frame.DataFrame'>\n",
      "Index: 5000 entries, 0 to 5010\n",
      "Data columns (total 9 columns):\n",
      " #   Column              Non-Null Count  Dtype         \n",
      "---  ------              --------------  -----         \n",
      " 0   customer_id         5000 non-null   int64         \n",
      " 1   join_date           5000 non-null   datetime64[ns]\n",
      " 2   gender_name         5000 non-null   object        \n",
      " 3   city_name           5000 non-null   object        \n",
      " 4   transaction_id      5000 non-null   float64       \n",
      " 5   transaction_date    5000 non-null   datetime64[ns]\n",
      " 6   transaction_status  5000 non-null   object        \n",
      " 7   coupon_name         5000 non-null   object        \n",
      " 8   branch_id           5000 non-null   float64       \n",
      "dtypes: datetime64[ns](2), float64(2), int64(1), object(4)\n",
      "memory usage: 390.6+ KB\n"
     ]
    }
   ],
   "source": [
    "# Dataset info\n",
    "merged_df.info()"
   ]
  },
  {
   "cell_type": "code",
   "execution_count": 139,
   "id": "14c07079",
   "metadata": {},
   "outputs": [
    {
     "data": {
      "text/html": [
       "<div>\n",
       "<style scoped>\n",
       "    .dataframe tbody tr th:only-of-type {\n",
       "        vertical-align: middle;\n",
       "    }\n",
       "\n",
       "    .dataframe tbody tr th {\n",
       "        vertical-align: top;\n",
       "    }\n",
       "\n",
       "    .dataframe thead th {\n",
       "        text-align: right;\n",
       "    }\n",
       "</style>\n",
       "<table border=\"1\" class=\"dataframe\">\n",
       "  <thead>\n",
       "    <tr style=\"text-align: right;\">\n",
       "      <th></th>\n",
       "      <th>customer_id</th>\n",
       "      <th>join_date</th>\n",
       "      <th>transaction_id</th>\n",
       "      <th>transaction_date</th>\n",
       "      <th>branch_id</th>\n",
       "    </tr>\n",
       "  </thead>\n",
       "  <tbody>\n",
       "    <tr>\n",
       "      <th>count</th>\n",
       "      <td>5000.000000</td>\n",
       "      <td>5000</td>\n",
       "      <td>5000.000000</td>\n",
       "      <td>5000</td>\n",
       "      <td>5000.000000</td>\n",
       "    </tr>\n",
       "    <tr>\n",
       "      <th>mean</th>\n",
       "      <td>509.551600</td>\n",
       "      <td>2023-01-18 14:41:34.080000</td>\n",
       "      <td>2500.500000</td>\n",
       "      <td>2023-10-22 04:38:47.040000</td>\n",
       "      <td>5.529800</td>\n",
       "    </tr>\n",
       "    <tr>\n",
       "      <th>min</th>\n",
       "      <td>1.000000</td>\n",
       "      <td>2021-07-18 00:00:00</td>\n",
       "      <td>1.000000</td>\n",
       "      <td>2021-08-05 00:00:00</td>\n",
       "      <td>1.000000</td>\n",
       "    </tr>\n",
       "    <tr>\n",
       "      <th>25%</th>\n",
       "      <td>262.000000</td>\n",
       "      <td>2022-04-10 00:00:00</td>\n",
       "      <td>1250.750000</td>\n",
       "      <td>2023-05-31 18:00:00</td>\n",
       "      <td>3.000000</td>\n",
       "    </tr>\n",
       "    <tr>\n",
       "      <th>50%</th>\n",
       "      <td>514.000000</td>\n",
       "      <td>2023-01-11 00:00:00</td>\n",
       "      <td>2500.500000</td>\n",
       "      <td>2024-01-02 00:00:00</td>\n",
       "      <td>6.000000</td>\n",
       "    </tr>\n",
       "    <tr>\n",
       "      <th>75%</th>\n",
       "      <td>758.000000</td>\n",
       "      <td>2023-10-25 00:00:00</td>\n",
       "      <td>3750.250000</td>\n",
       "      <td>2024-05-08 00:00:00</td>\n",
       "      <td>8.000000</td>\n",
       "    </tr>\n",
       "    <tr>\n",
       "      <th>max</th>\n",
       "      <td>1000.000000</td>\n",
       "      <td>2024-07-13 00:00:00</td>\n",
       "      <td>5000.000000</td>\n",
       "      <td>2024-07-14 00:00:00</td>\n",
       "      <td>10.000000</td>\n",
       "    </tr>\n",
       "    <tr>\n",
       "      <th>std</th>\n",
       "      <td>287.065172</td>\n",
       "      <td>NaN</td>\n",
       "      <td>1443.520003</td>\n",
       "      <td>NaN</td>\n",
       "      <td>2.895788</td>\n",
       "    </tr>\n",
       "  </tbody>\n",
       "</table>\n",
       "</div>"
      ],
      "text/plain": [
       "       customer_id                   join_date  transaction_id  \\\n",
       "count  5000.000000                        5000     5000.000000   \n",
       "mean    509.551600  2023-01-18 14:41:34.080000     2500.500000   \n",
       "min       1.000000         2021-07-18 00:00:00        1.000000   \n",
       "25%     262.000000         2022-04-10 00:00:00     1250.750000   \n",
       "50%     514.000000         2023-01-11 00:00:00     2500.500000   \n",
       "75%     758.000000         2023-10-25 00:00:00     3750.250000   \n",
       "max    1000.000000         2024-07-13 00:00:00     5000.000000   \n",
       "std     287.065172                         NaN     1443.520003   \n",
       "\n",
       "                 transaction_date    branch_id  \n",
       "count                        5000  5000.000000  \n",
       "mean   2023-10-22 04:38:47.040000     5.529800  \n",
       "min           2021-08-05 00:00:00     1.000000  \n",
       "25%           2023-05-31 18:00:00     3.000000  \n",
       "50%           2024-01-02 00:00:00     6.000000  \n",
       "75%           2024-05-08 00:00:00     8.000000  \n",
       "max           2024-07-14 00:00:00    10.000000  \n",
       "std                           NaN     2.895788  "
      ]
     },
     "execution_count": 139,
     "metadata": {},
     "output_type": "execute_result"
    }
   ],
   "source": [
    "# Dataset statistics \n",
    "merged_df.describe()"
   ]
  },
  {
   "cell_type": "code",
   "execution_count": null,
   "id": "38f08e3a",
   "metadata": {},
   "outputs": [],
   "source": [
    "#Convert date columns to datetime format\n",
    "merged_df[\"join_date\"] = pd.to_datetime(merged_df[\"join_date\"])\n",
    "merged_df[\"transaction_date\"] = pd.to_datetime(merged_df[\"transaction_date\"])"
   ]
  },
  {
   "cell_type": "markdown",
   "id": "dfe4de7c",
   "metadata": {},
   "source": [
    "# Feature Engineering - (Creating New Features for Clustering)"
   ]
  },
  {
   "cell_type": "code",
   "execution_count": 140,
   "id": "42302988",
   "metadata": {},
   "outputs": [],
   "source": [
    "# Compute coupon usage frequency\n",
    "coupon_usage = merged_df.groupby(\"customer_id\")[\"coupon_name\"].count().reset_index()\n",
    "coupon_usage.rename(columns={\"coupon_name\": \"coupon_usage_frequency\"}, inplace=True)\n",
    "\n",
    "# Count transactions by status per customer\n",
    "transaction_status_counts = merged_df.pivot_table(index=\"customer_id\",\n",
    "                                                  columns=\"transaction_status\",\n",
    "                                                  values=\"transaction_id\",\n",
    "                                                  aggfunc=\"count\",\n",
    "                                                  fill_value=0).reset_index()"
   ]
  },
  {
   "cell_type": "code",
   "execution_count": 141,
   "id": "762ef7fb",
   "metadata": {},
   "outputs": [],
   "source": [
    "# Merge aggregated features into final dataset\n",
    "final_df = customers_df.merge(coupon_usage, on=\"customer_id\", how=\"left\")\n",
    "final_df = final_df.merge(transaction_status_counts, on=\"customer_id\", how=\"left\")\n",
    "final_df.fillna(0, inplace=True)"
   ]
  },
  {
   "cell_type": "code",
   "execution_count": 151,
   "id": "20ffb90c",
   "metadata": {},
   "outputs": [
    {
     "data": {
      "text/plain": [
       "customer_id               0\n",
       "join_date                 0\n",
       "gender_name               0\n",
       "city_name                 0\n",
       "coupon_usage_frequency    0\n",
       "burned                    0\n",
       "subscribed                0\n",
       "cluster                   0\n",
       "dtype: int64"
      ]
     },
     "execution_count": 151,
     "metadata": {},
     "output_type": "execute_result"
    }
   ],
   "source": [
    "final_df.isna().sum()"
   ]
  },
  {
   "cell_type": "markdown",
   "id": "986f1dca",
   "metadata": {},
   "source": [
    "# Feature Selection (Choosing important features for Clustering)"
   ]
  },
  {
   "cell_type": "code",
   "execution_count": 142,
   "id": "5016b47a",
   "metadata": {},
   "outputs": [],
   "source": [
    "# Select numerical features for clustering\n",
    "features = [\"coupon_usage_frequency\", \"burned\", \"subscribed\"]\n"
   ]
  },
  {
   "cell_type": "markdown",
   "id": "5ca2acfa",
   "metadata": {},
   "source": [
    "# Feature Scaling "
   ]
  },
  {
   "cell_type": "code",
   "execution_count": null,
   "id": "c829200d",
   "metadata": {},
   "outputs": [],
   "source": [
    "# scale features using standardScaler\n",
    "scaler = StandardScaler()\n",
    "scaled_features = scaler.fit_transform(final_df[features])"
   ]
  },
  {
   "cell_type": "markdown",
   "id": "32fb8f00",
   "metadata": {},
   "source": [
    "# Model Training & Evaluation \n",
    "### to Find Optimal Clusters"
   ]
  },
  {
   "cell_type": "code",
   "execution_count": 143,
   "id": "a6e1ae2b",
   "metadata": {},
   "outputs": [
    {
     "name": "stderr",
     "output_type": "stream",
     "text": [
      "C:\\Users\\malak\\anaconda3\\Lib\\site-packages\\sklearn\\cluster\\_kmeans.py:1436: UserWarning: KMeans is known to have a memory leak on Windows with MKL, when there are less chunks than available threads. You can avoid it by setting the environment variable OMP_NUM_THREADS=4.\n",
      "  warnings.warn(\n",
      "C:\\Users\\malak\\anaconda3\\Lib\\site-packages\\sklearn\\cluster\\_kmeans.py:1436: UserWarning: KMeans is known to have a memory leak on Windows with MKL, when there are less chunks than available threads. You can avoid it by setting the environment variable OMP_NUM_THREADS=4.\n",
      "  warnings.warn(\n",
      "C:\\Users\\malak\\anaconda3\\Lib\\site-packages\\sklearn\\cluster\\_kmeans.py:1436: UserWarning: KMeans is known to have a memory leak on Windows with MKL, when there are less chunks than available threads. You can avoid it by setting the environment variable OMP_NUM_THREADS=4.\n",
      "  warnings.warn(\n",
      "C:\\Users\\malak\\anaconda3\\Lib\\site-packages\\sklearn\\cluster\\_kmeans.py:1436: UserWarning: KMeans is known to have a memory leak on Windows with MKL, when there are less chunks than available threads. You can avoid it by setting the environment variable OMP_NUM_THREADS=4.\n",
      "  warnings.warn(\n",
      "C:\\Users\\malak\\anaconda3\\Lib\\site-packages\\sklearn\\cluster\\_kmeans.py:1436: UserWarning: KMeans is known to have a memory leak on Windows with MKL, when there are less chunks than available threads. You can avoid it by setting the environment variable OMP_NUM_THREADS=4.\n",
      "  warnings.warn(\n",
      "C:\\Users\\malak\\anaconda3\\Lib\\site-packages\\sklearn\\cluster\\_kmeans.py:1436: UserWarning: KMeans is known to have a memory leak on Windows with MKL, when there are less chunks than available threads. You can avoid it by setting the environment variable OMP_NUM_THREADS=4.\n",
      "  warnings.warn(\n",
      "C:\\Users\\malak\\anaconda3\\Lib\\site-packages\\sklearn\\cluster\\_kmeans.py:1436: UserWarning: KMeans is known to have a memory leak on Windows with MKL, when there are less chunks than available threads. You can avoid it by setting the environment variable OMP_NUM_THREADS=4.\n",
      "  warnings.warn(\n",
      "C:\\Users\\malak\\anaconda3\\Lib\\site-packages\\sklearn\\cluster\\_kmeans.py:1436: UserWarning: KMeans is known to have a memory leak on Windows with MKL, when there are less chunks than available threads. You can avoid it by setting the environment variable OMP_NUM_THREADS=4.\n",
      "  warnings.warn(\n",
      "C:\\Users\\malak\\anaconda3\\Lib\\site-packages\\sklearn\\cluster\\_kmeans.py:1436: UserWarning: KMeans is known to have a memory leak on Windows with MKL, when there are less chunks than available threads. You can avoid it by setting the environment variable OMP_NUM_THREADS=4.\n",
      "  warnings.warn(\n"
     ]
    }
   ],
   "source": [
    "# Compute Silhouette Scores and Davies-Bouldin Index for different cluster numbers\n",
    "silhouette_scores = {}\n",
    "davies_bouldin_scores = {}\n",
    "cluster_options = range(2, 11)\n",
    "\n",
    "for k in cluster_options:\n",
    "    kmeans = KMeans(n_clusters=k, random_state=42, n_init=10)\n",
    "    labels = kmeans.fit_predict(scaled_features)\n",
    "    silhouette_scores[k] = silhouette_score(scaled_features, labels)\n",
    "    davies_bouldin_scores[k] = davies_bouldin_score(scaled_features, labels)\n"
   ]
  },
  {
   "cell_type": "code",
   "execution_count": 144,
   "id": "e8188c4d",
   "metadata": {},
   "outputs": [
    {
     "name": "stdout",
     "output_type": "stream",
     "text": [
      "Optimal number of clusters based on Silhouette Score: 9\n"
     ]
    }
   ],
   "source": [
    "# Choose the optimal number of clusters based on the highest Silhouette Score\n",
    "optimal_k = max(silhouette_scores, key=silhouette_scores.get)\n",
    "print(f\"Optimal number of clusters based on Silhouette Score: {optimal_k}\")"
   ]
  },
  {
   "cell_type": "markdown",
   "id": "f2a7f699",
   "metadata": {},
   "source": [
    "# Apply K-Means with Optimal Clusters"
   ]
  },
  {
   "cell_type": "code",
   "execution_count": 145,
   "id": "9e959721",
   "metadata": {},
   "outputs": [
    {
     "name": "stderr",
     "output_type": "stream",
     "text": [
      "C:\\Users\\malak\\anaconda3\\Lib\\site-packages\\sklearn\\cluster\\_kmeans.py:1436: UserWarning: KMeans is known to have a memory leak on Windows with MKL, when there are less chunks than available threads. You can avoid it by setting the environment variable OMP_NUM_THREADS=4.\n",
      "  warnings.warn(\n"
     ]
    }
   ],
   "source": [
    "# Apply K-Means with the optimal clusters\n",
    "kmeans = KMeans(n_clusters=optimal_k, random_state=42, n_init=10)\n",
    "final_df[\"cluster\"] = kmeans.fit_predict(scaled_features)"
   ]
  },
  {
   "cell_type": "markdown",
   "id": "5b7331ad",
   "metadata": {},
   "source": [
    "# Visualizing Clustering Results"
   ]
  },
  {
   "cell_type": "markdown",
   "id": "3a3d1ad5",
   "metadata": {},
   "source": [
    "### Plot Silhouette Scores"
   ]
  },
  {
   "cell_type": "code",
   "execution_count": 146,
   "id": "d03c55cf",
   "metadata": {
    "scrolled": false
   },
   "outputs": [
    {
     "data": {
      "image/png": "[encoded data removed]",
      "text/plain": [
       "<Figure size 800x500 with 1 Axes>"
      ]
     },
     "metadata": {},
     "output_type": "display_data"
    }
   ],
   "source": [
    "plt.figure(figsize=(8, 5))\n",
    "plt.plot(cluster_options, silhouette_scores.values(), marker=\"s\", linestyle=\"-\", color=\"red\")\n",
    "plt.xlabel(\"Number of Clusters\")\n",
    "plt.ylabel(\"Silhouette Score\")\n",
    "plt.title(\"Silhouette Score for Cluster Quality\")\n",
    "plt.show()"
   ]
  },
  {
   "cell_type": "markdown",
   "id": "8b7a2d2f",
   "metadata": {},
   "source": [
    "### Plot Elbow Method for reference"
   ]
  },
  {
   "cell_type": "code",
   "execution_count": 147,
   "id": "6c7a0b86",
   "metadata": {
    "scrolled": false
   },
   "outputs": [
    {
     "name": "stderr",
     "output_type": "stream",
     "text": [
      "C:\\Users\\malak\\anaconda3\\Lib\\site-packages\\sklearn\\cluster\\_kmeans.py:1436: UserWarning: KMeans is known to have a memory leak on Windows with MKL, when there are less chunks than available threads. You can avoid it by setting the environment variable OMP_NUM_THREADS=4.\n",
      "  warnings.warn(\n",
      "C:\\Users\\malak\\anaconda3\\Lib\\site-packages\\sklearn\\cluster\\_kmeans.py:1436: UserWarning: KMeans is known to have a memory leak on Windows with MKL, when there are less chunks than available threads. You can avoid it by setting the environment variable OMP_NUM_THREADS=4.\n",
      "  warnings.warn(\n",
      "C:\\Users\\malak\\anaconda3\\Lib\\site-packages\\sklearn\\cluster\\_kmeans.py:1436: UserWarning: KMeans is known to have a memory leak on Windows with MKL, when there are less chunks than available threads. You can avoid it by setting the environment variable OMP_NUM_THREADS=4.\n",
      "  warnings.warn(\n",
      "C:\\Users\\malak\\anaconda3\\Lib\\site-packages\\sklearn\\cluster\\_kmeans.py:1436: UserWarning: KMeans is known to have a memory leak on Windows with MKL, when there are less chunks than available threads. You can avoid it by setting the environment variable OMP_NUM_THREADS=4.\n",
      "  warnings.warn(\n",
      "C:\\Users\\malak\\anaconda3\\Lib\\site-packages\\sklearn\\cluster\\_kmeans.py:1436: UserWarning: KMeans is known to have a memory leak on Windows with MKL, when there are less chunks than available threads. You can avoid it by setting the environment variable OMP_NUM_THREADS=4.\n",
      "  warnings.warn(\n",
      "C:\\Users\\malak\\anaconda3\\Lib\\site-packages\\sklearn\\cluster\\_kmeans.py:1436: UserWarning: KMeans is known to have a memory leak on Windows with MKL, when there are less chunks than available threads. You can avoid it by setting the environment variable OMP_NUM_THREADS=4.\n",
      "  warnings.warn(\n",
      "C:\\Users\\malak\\anaconda3\\Lib\\site-packages\\sklearn\\cluster\\_kmeans.py:1436: UserWarning: KMeans is known to have a memory leak on Windows with MKL, when there are less chunks than available threads. You can avoid it by setting the environment variable OMP_NUM_THREADS=4.\n",
      "  warnings.warn(\n",
      "C:\\Users\\malak\\anaconda3\\Lib\\site-packages\\sklearn\\cluster\\_kmeans.py:1436: UserWarning: KMeans is known to have a memory leak on Windows with MKL, when there are less chunks than available threads. You can avoid it by setting the environment variable OMP_NUM_THREADS=4.\n",
      "  warnings.warn(\n",
      "C:\\Users\\malak\\anaconda3\\Lib\\site-packages\\sklearn\\cluster\\_kmeans.py:1436: UserWarning: KMeans is known to have a memory leak on Windows with MKL, when there are less chunks than available threads. You can avoid it by setting the environment variable OMP_NUM_THREADS=4.\n",
      "  warnings.warn(\n"
     ]
    },
    {
     "data": {
      "image/png": "[encoded data removed]",
      "text/plain": [
       "<Figure size 800x500 with 1 Axes>"
      ]
     },
     "metadata": {},
     "output_type": "display_data"
    }
   ],
   "source": [
    "inertia = [KMeans(n_clusters=k, random_state=42, n_init=10).fit(scaled_features).inertia_ for k in cluster_options]\n",
    "plt.figure(figsize=(8, 5))\n",
    "plt.plot(cluster_options, inertia, marker=\"o\", linestyle=\"-\")\n",
    "plt.xlabel(\"Number of Clusters\")\n",
    "plt.ylabel(\"Inertia\")\n",
    "plt.title(\"Elbow Method for Optimal Clusters\")\n",
    "plt.show()"
   ]
  },
  {
   "cell_type": "markdown",
   "id": "ac5727ad",
   "metadata": {},
   "source": [
    "### Visualize the clusters"
   ]
  },
  {
   "cell_type": "code",
   "execution_count": 148,
   "id": "9f62c1a6",
   "metadata": {
    "scrolled": false
   },
   "outputs": [
    {
     "data": {
      "image/png": "[encoded data removed]",
      "text/plain": [
       "<Figure size 800x500 with 2 Axes>"
      ]
     },
     "metadata": {},
     "output_type": "display_data"
    }
   ],
   "source": [
    "\n",
    "plt.figure(figsize=(8, 5))\n",
    "plt.scatter(scaled_features[:, 0], scaled_features[:, 1], c=final_df[\"cluster\"], cmap=\"viridis\", alpha=0.6)\n",
    "plt.xlabel(\"Coupon Usage Frequency (Scaled)\")\n",
    "plt.ylabel(\"Burned Coupons (Scaled)\")\n",
    "plt.title(\"Customer Segmentation using K-Means\")\n",
    "plt.colorbar(label=\"Cluster\")\n",
    "plt.show()"
   ]
  },
  {
   "cell_type": "markdown",
   "id": "698bcc3e",
   "metadata": {},
   "source": [
    "# cluster analysis"
   ]
  },
  {
   "cell_type": "code",
   "execution_count": 149,
   "id": "5173c4d4",
   "metadata": {},
   "outputs": [
    {
     "name": "stdout",
     "output_type": "stream",
     "text": [
      "         coupon_usage_frequency    burned  subscribed\n",
      "cluster                                              \n",
      "0                      3.142857  0.621849    2.521008\n",
      "1                      6.992424  3.325758    3.666667\n",
      "2                      5.000000  3.835616    1.164384\n",
      "3                     10.000000  4.102041    5.897959\n",
      "4                      6.076190  1.371429    4.704762\n",
      "5                      2.662791  2.197674    0.465116\n",
      "6                      4.652850  2.300518    2.352332\n",
      "7                      8.211268  5.633803    2.577465\n",
      "8                      1.363636  0.656566    0.707071\n"
     ]
    }
   ],
   "source": [
    "# Analyze the clusters\n",
    "cluster_analysis = final_df.groupby(\"cluster\")[features].mean()\n",
    "print(cluster_analysis)"
   ]
  }
 ],
 "metadata": {
  "kernelspec": {
   "display_name": "Python 3 (ipykernel)",
   "language": "python",
   "name": "python3"
  },
  "language_info": {
   "codemirror_mode": {
    "name": "ipython",
    "version": 3
   },
   "file_extension": ".py",
   "mimetype": "text/x-python",
   "name": "python",
   "nbconvert_exporter": "python",
   "pygments_lexer": "ipython3",
   "version": "3.11.9"
  }
 },
 "nbformat": 4,
 "nbformat_minor": 5
}
